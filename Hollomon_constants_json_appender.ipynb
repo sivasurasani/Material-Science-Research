{
  "nbformat": 4,
  "nbformat_minor": 0,
  "metadata": {
    "colab": {
      "provenance": [],
      "authorship_tag": "ABX9TyNpXMzwIxjtqxHy8FFOIK+n",
      "include_colab_link": true
    },
    "kernelspec": {
      "name": "python3",
      "display_name": "Python 3"
    },
    "language_info": {
      "name": "python"
    }
  },
  "cells": [
    {
      "cell_type": "markdown",
      "metadata": {
        "id": "view-in-github",
        "colab_type": "text"
      },
      "source": [
        "<a href=\"https://colab.research.google.com/github/sivasurasani/Material-Science-Research/blob/main/Hollomon_constants_json_appender.ipynb\" target=\"_parent\"><img src=\"https://colab.research.google.com/assets/colab-badge.svg\" alt=\"Open In Colab\"/></a>"
      ]
    },
    {
      "cell_type": "code",
      "source": [
        "from google.colab import drive\n",
        "import os\n",
        "import pandas as pd\n",
        "import matplotlib.pyplot as plt\n",
        "import numpy as np\n",
        "import statsmodels.api as sm\n",
        "# Mount Google Drive\n",
        "drive.mount('/content/drive')\n",
        "\n",
        "# Directory containing all the data folders\n",
        "data_directory = \"/content/drive/MyDrive/Colab Notebooks/Material_Science/H_Data\""
      ],
      "metadata": {
        "colab": {
          "base_uri": "https://localhost:8080/"
        },
        "id": "IhJEJmoSJ2Ki",
        "outputId": "b9ae2249-7b01-47f6-f1c2-95ebd6cb587c"
      },
      "execution_count": 11,
      "outputs": [
        {
          "output_type": "stream",
          "name": "stdout",
          "text": [
            "Drive already mounted at /content/drive; to attempt to forcibly remount, call drive.mount(\"/content/drive\", force_remount=True).\n"
          ]
        }
      ]
    },
    {
      "cell_type": "code",
      "execution_count": 12,
      "metadata": {
        "id": "4IacWYI1I98F"
      },
      "outputs": [],
      "source": [
        "def calculate_hollomon_constants(strain, stress):\n",
        "    # Filter out non-positive values\n",
        "    valid_indices = (strain > 0) & (stress > 0)\n",
        "    strain = strain[valid_indices]\n",
        "    stress = stress[valid_indices]\n",
        "\n",
        "    # Transforming the data to natural logarithms\n",
        "    log_strain = np.log(strain)\n",
        "    log_stress = np.log(stress)\n",
        "\n",
        "    # Performing linear regression\n",
        "    X = sm.add_constant(log_strain)  # Adds a constant term to the predictor\n",
        "    model = sm.OLS(log_stress, X).fit()\n",
        "    intercept, slope = model.params\n",
        "\n",
        "    # Calculating k\n",
        "    k = np.exp(intercept)\n",
        "\n",
        "    return slope, k\n",
        "\n",
        "def plot_stress_strain(strain, stress, n, k):\n",
        "    # Generate fitted stress values using the Hollomon equation\n",
        "    fitted_stress = k * (strain**n)\n",
        "    # Plot original data\n",
        "    plt.scatter(strain, stress, color='blue', label='Original data')\n",
        "    # Plot fitted curve\n",
        "    plt.plot(strain, fitted_stress, color='red', label=f'Fitted curve: $\\sigma = {k:.2f} \\cdot \\epsilon^{n:.2f}$')\n",
        "    plt.xlabel('Strain')\n",
        "    plt.ylabel('Stress')\n",
        "    plt.legend()\n",
        "    plt.title('Stress vs. Strain')\n",
        "    plt.show()\n",
        "\n",
        "# data = pd.read_excel('Eng Values.xlsx')\n",
        "# if 't.stress' not in data.columns and 't.strain' not in data.columns:\n",
        "#     data['t.stress'] = data['eng.stress'] * (1 + data['eng.strain'])\n",
        "#     data['t.strain'] = np.log(1 + data['eng.strain'])\n",
        "# stress = data['t.stress']\n",
        "# strain = data['t.strain']\n",
        "# # stress = fitted_true_stress\n",
        "# # strain= new_true_strain\n",
        "\n",
        "# try:\n",
        "#     n, k = calculate_hollomon_constants(strain, stress)\n",
        "#     print(f'n = {n}')\n",
        "#     print(f'k = {k}')\n",
        "#     plot_stress_strain(strain, stress, n, k)\n",
        "# except ValueError as e:\n",
        "#     print(e)"
      ]
    },
    {
      "cell_type": "code",
      "source": [
        "# Loop through each folder in the data directory\n",
        "json_file_path = 'data.json'\n",
        "import json\n",
        "with open(json_file_path, 'r') as file:\n",
        "    json_data = json.load(file)\n",
        "papers_dict = {paper['title']: paper for paper in json_data}\n",
        "for folder_name in os.listdir(data_directory):\n",
        "    folder_path = os.path.join(data_directory, folder_name)\n",
        "\n",
        "    if not os.path.isdir(folder_path):\n",
        "        print(f\"Skipping file: {folder_name}, it is not a folder.\")\n",
        "        continue\n",
        "\n",
        "    print(f\"\\nPROCESSING FOLDER: {folder_name}\")\n",
        "\n",
        "    # Find the Excel file in the folder\n",
        "    excel_file = next((os.path.join(folder_path, file) for file in os.listdir(folder_path) if file.endswith(\".xlsx\")), None)\n",
        "\n",
        "    if excel_file:\n",
        "        print(f\"Found Excel file: {excel_file}\")\n",
        "\n",
        "        # Read Excel data\n",
        "        data = pd.read_excel(excel_file, usecols=[0, 1])\n",
        "\n",
        "        # Check and calculate the t.stress and t.strain columns\n",
        "        if 't.stress' not in data.columns or 't.strain' not in data.columns:\n",
        "            data['t.stress'] = data['eng.stress'] * (1 + data['eng.strain'])\n",
        "            data['t.strain'] = np.log(1 + data['eng.strain'])\n",
        "\n",
        "        stress = data['t.stress']\n",
        "        strain = data['t.strain']\n",
        "\n",
        "        # Calculate Hollomon constants\n",
        "        n, k = calculate_hollomon_constants(strain, stress)\n",
        "        print(f'n = {n}')\n",
        "        print(f'k = {k}')\n",
        "\n",
        "        # Update the corresponding JSON entry using the dictionary\n",
        "        if folder_name in papers_dict:\n",
        "            papers_dict[folder_name]['n'] = n\n",
        "            papers_dict[folder_name]['k'] = k\n",
        "        else:\n",
        "            print(f\"Error: No matching title found for folder {folder_name} in JSON data.\")\n",
        "    else:\n",
        "        print(f\"Error: Excel file is required in folder {folder_name}.\")\n",
        "\n",
        "# Convert the dictionary back to a list\n",
        "json_data_updated = list(papers_dict.values())\n",
        "\n",
        "# Save the updated JSON data back to the file\n",
        "with open(json_file_path, 'w') as file:\n",
        "    json.dump(json_data_updated, file, indent=4)\n",
        "\n",
        "print(\"Updated JSON data saved to data.json\")"
      ],
      "metadata": {
        "colab": {
          "base_uri": "https://localhost:8080/"
        },
        "id": "GNkq2B_MLhq_",
        "outputId": "3c10c826-0468-426b-8e38-5cf0e784da5e"
      },
      "execution_count": 17,
      "outputs": [
        {
          "output_type": "stream",
          "name": "stdout",
          "text": [
            "\n",
            "PROCESSING FOLDER: paper-1\n",
            "Found Excel file: /content/drive/MyDrive/Colab Notebooks/Material_Science/H_Data/paper-1/Eng Values.xlsx\n",
            "n = 0.37546100095031515\n",
            "k = 2062.1744509055993\n",
            "\n",
            "PROCESSING FOLDER: paper-5\n",
            "Found Excel file: /content/drive/MyDrive/Colab Notebooks/Material_Science/H_Data/paper-5/Eng Values.xlsx\n",
            "n = 0.3364048615463518\n",
            "k = 2136.9093521940476\n",
            "Updated JSON data saved to data.json\n"
          ]
        }
      ]
    }
  ]
}