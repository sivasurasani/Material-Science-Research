{
  "nbformat": 4,
  "nbformat_minor": 0,
  "metadata": {
    "colab": {
      "provenance": [],
      "authorship_tag": "ABX9TyOwOjFnU7JB7qkV+/aQoKA3",
      "include_colab_link": true
    },
    "kernelspec": {
      "name": "python3",
      "display_name": "Python 3"
    },
    "language_info": {
      "name": "python"
    }
  },
  "cells": [
    {
      "cell_type": "markdown",
      "metadata": {
        "id": "view-in-github",
        "colab_type": "text"
      },
      "source": [
        "<a href=\"https://colab.research.google.com/github/sivasurasani/Material-Science-Research/blob/main/extracting_hardening_from_str_strain_values.ipynb\" target=\"_parent\"><img src=\"https://colab.research.google.com/assets/colab-badge.svg\" alt=\"Open In Colab\"/></a>"
      ]
    },
    {
      "cell_type": "code",
      "execution_count": null,
      "metadata": {
        "colab": {
          "base_uri": "https://localhost:8080/"
        },
        "id": "9W9gTBBe2-A-",
        "outputId": "640b5a58-8e68-461b-8d5b-0f5cbb0debb6"
      },
      "outputs": [
        {
          "output_type": "stream",
          "name": "stdout",
          "text": [
            "coming inside\n",
            "/content/drive/My Drive/Colab Notebooks/Material_Science/Feb/paper-251/Eng Values.xlsx\n",
            "coming to data\n",
            "Processed: paper-251\n",
            "coming inside\n",
            "/content/drive/My Drive/Colab Notebooks/Material_Science/Feb/paper-252/Eng Values.xlsx\n",
            "coming to data\n",
            "Processed: paper-252\n",
            "coming inside\n",
            "/content/drive/My Drive/Colab Notebooks/Material_Science/Feb/paper-253/Eng Values.xlsx\n",
            "coming to data\n",
            "Processed: paper-253\n",
            "All folders processed successfully!\n"
          ]
        }
      ],
      "source": [
        "import os\n",
        "import pandas as pd\n",
        "import numpy as np\n",
        "\n",
        "# Define the work hardening function\n",
        "def work_hardening(true_stress, true_strain):\n",
        "    if len(true_stress) != len(true_strain):\n",
        "        raise ValueError(\"true_stress and true_strain must have the same length\")\n",
        "    if len(true_stress) < 2:\n",
        "        return np.array([])\n",
        "    return np.diff(true_stress) / np.diff(true_strain)\n",
        "\n",
        "# Set the path to your main directory in Google Drive\n",
        "main_directory = \"/content/drive/My Drive/Colab Notebooks/Material_Science/Feb\"  # Change \"MainFolder\" to your actual folder\n",
        "\n",
        "# Loop through each folder inside the main directory\n",
        "for folder_name in os.listdir(main_directory):\n",
        "    folder_path = os.path.join(main_directory, folder_name)\n",
        "\n",
        "    # Check if it's a folder\n",
        "    if os.path.isdir(folder_path):\n",
        "        print(\"coming inside\")\n",
        "        excel_file_path = os.path.join(folder_path, \"Eng Values.xlsx\")\n",
        "        excel_file_path_2 = os.path.join(folder_path,\"fitted_hard_rate_cal.xlsx\")\n",
        "        # Check if the Eng Values.xlsx file exists\n",
        "        print(excel_file_path)\n",
        "        if os.path.exists(excel_file_path) and not os.path.exists(excel_file_path_2):\n",
        "            try:\n",
        "                # Read the Excel file\n",
        "                data = pd.read_excel(excel_file_path)\n",
        "                print(\"coming to data\")\n",
        "                # Ensure required columns exist\n",
        "                if 't.stress' not in data.columns and 't.strain' not in data.columns:\n",
        "                    data['t.stress'] = data['eng.stress'] * (1 + data['eng.strain'])\n",
        "                    data['t.strain'] = np.log(1 + data['eng.strain'])\n",
        "\n",
        "                # Filter valid values\n",
        "                data = data[(data['t.stress'] > 0) & (data['t.strain'] > 0)]\n",
        "\n",
        "                # Polynomial fitting\n",
        "                degree = 5\n",
        "                coefficients = np.polyfit(data['t.strain'], data['t.stress'], degree)\n",
        "                polynomial = np.poly1d(coefficients)\n",
        "\n",
        "                # Generate fitted values\n",
        "                new_true_strain = np.linspace(data['t.strain'].min(), data['t.strain'].max() - 0.01, 100)\n",
        "                fitted_true_stress = polynomial(new_true_strain)\n",
        "\n",
        "                # Calculate Work Hardening Rate\n",
        "                work_hardening_rate = work_hardening(fitted_true_stress, new_true_strain)\n",
        "\n",
        "                # Prepare the DataFrame\n",
        "                fitted_data = pd.DataFrame({'t.strain': new_true_strain, 't.stress': fitted_true_stress})\n",
        "                fitted_data['hard.Rate'] = np.append(work_hardening_rate, np.nan)\n",
        "\n",
        "                # Remove negative hardening rates\n",
        "                fitted_data = fitted_data[fitted_data['hard.Rate'] > 0].reset_index(drop=True)\n",
        "\n",
        "                # Save the output Excel file in the same folder\n",
        "                output_path = os.path.join(folder_path, \"fitted_hard_rate_cal.xlsx\")\n",
        "                fitted_data.to_excel(output_path, index=False)\n",
        "\n",
        "                print(f\"Processed: {folder_name}\")\n",
        "\n",
        "            except Exception as e:\n",
        "                print(f\"Error processing {folder_name}: {e}\")\n",
        "\n",
        "print(\"All folders processed successfully!\")"
      ]
    },
    {
      "cell_type": "code",
      "source": [
        "from google.colab import drive\n",
        "drive.mount('/content/drive')\n"
      ],
      "metadata": {
        "colab": {
          "base_uri": "https://localhost:8080/"
        },
        "id": "WJ9ToZap5FbK",
        "outputId": "ab4d1b04-493f-49bf-c05a-80e5766c0403"
      },
      "execution_count": null,
      "outputs": [
        {
          "output_type": "stream",
          "name": "stdout",
          "text": [
            "Mounted at /content/drive\n"
          ]
        }
      ]
    }
  ]
}