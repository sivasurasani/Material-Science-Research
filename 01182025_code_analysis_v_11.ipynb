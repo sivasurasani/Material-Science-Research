{
  "cells": [
    {
      "cell_type": "markdown",
      "metadata": {
        "id": "view-in-github",
        "colab_type": "text"
      },
      "source": [
        "<a href=\"https://colab.research.google.com/github/sivasurasani/Material-Science-Research/blob/main/01182025_code_analysis_v_11.ipynb\" target=\"_parent\"><img src=\"https://colab.research.google.com/assets/colab-badge.svg\" alt=\"Open In Colab\"/></a>"
      ]
    },
    {
      "cell_type": "markdown",
      "metadata": {
        "id": "pXCOtKLhabfB"
      },
      "source": [
        "# Static variables"
      ]
    },
    {
      "cell_type": "code",
      "execution_count": null,
      "metadata": {
        "id": "5t6bo_iPm2hT"
      },
      "outputs": [],
      "source": [
        "# import pandas as pd\n",
        "# import numpy as np\n",
        "# import matplotlib.pyplot as plt\n",
        "\n",
        "# # Define the work hardening function\n",
        "# def work_hardening(true_stress, true_strain):\n",
        "#     if len(true_stress) != len(true_strain):\n",
        "#         raise ValueError(\"true_stress and true_strain must have the same length\")\n",
        "\n",
        "#     if len(true_stress) < 2:\n",
        "#         return np.array([])\n",
        "\n",
        "#     work_hardening_rate = np.diff(true_stress) / np.diff(true_strain)\n",
        "#     return work_hardening_rate\n",
        "\n",
        "# # Read the Excel file\n",
        "# data = pd.read_excel('Eng Values.xlsx')\n",
        "# if 't.stress' not in data.columns and 't.strain' not in data.columns:\n",
        "#     data['t.stress'] = data['eng.stress'] * (1 + data['eng.strain'])\n",
        "#     data['t.strain'] = np.log(1 + data['eng.strain'])\n",
        "\n",
        "# # Filter to include only positive values\n",
        "# data = data[(data['t.stress'] > 0) & (data['t.strain'] > 0)]\n",
        "\n",
        "# # Choose the degree of the polynomial\n",
        "# degree = 5\n",
        "\n",
        "# # Perform the polynomial fit using the correct column names\n",
        "# coefficients = np.polyfit(data['t.strain'], data['t.stress'], degree)\n",
        "\n",
        "# # Create a polynomial function from the coefficients\n",
        "# polynomial = np.poly1d(coefficients)\n",
        "\n",
        "# # Generate 100 evenly spaced values over the range of the original true strain values\n",
        "# new_true_strain = np.linspace(data['t.strain'].min(), data['t.strain'].max() - 0.01, 100)\n",
        "\n",
        "# # Evaluate the polynomial at the new strain values\n",
        "# fitted_true_stress = polynomial(new_true_strain)\n",
        "\n",
        "# # Create a new DataFrame to store the fitted values\n",
        "# fitted_data = pd.DataFrame({\n",
        "#     't.strain': new_true_strain,\n",
        "#     't.stress': fitted_true_stress\n",
        "# })\n",
        "\n",
        "# # Optionally, plot the original data and the fitted polynomial\n",
        "# plt.scatter(data['t.strain'], data['t.stress'], label='Original Data', color='blue')\n",
        "# plt.plot(new_true_strain, fitted_true_stress, label=f'Polynomial Fit (degree={degree})', color='red')\n",
        "# plt.xlabel('True Strain')\n",
        "# plt.ylabel('True Stress')\n",
        "# plt.legend()\n",
        "# plt.show()\n",
        "\n",
        "# # Calculate Work Hardening Rate\n",
        "# work_hardening_rate = work_hardening(fitted_true_stress, new_true_strain)\n",
        "\n",
        "# # Add NaN to make the length equal to the original arrays\n",
        "# work_hardening_rate_padded = np.append(work_hardening_rate, np.nan)\n",
        "\n",
        "# # Identify the first index where the work hardening rate starts to increase\n",
        "# first_index = 0\n",
        "\n",
        "# # Create a new DataFrame for fitted data\n",
        "# fitted_data = fitted_data.iloc[first_index:].reset_index(drop=True)\n",
        "\n",
        "# # Update the work hardening rate in the fitted data DataFrame\n",
        "# fitted_data['hard.Rate'] = np.append(work_hardening_rate[first_index:], np.nan)\n",
        "\n",
        "# # Remove negative work hardening rates and corresponding stress and strain\n",
        "# fitted_data = fitted_data[fitted_data['hard.Rate'] > 0].reset_index(drop=True)\n",
        "\n",
        "# # Save the fitted data to a new Excel file\n",
        "# fitted_data.to_excel('fitted_hard_rate_cal.xlsx', index=False)"
      ]
    },
    {
      "cell_type": "code",
      "execution_count": null,
      "metadata": {
        "id": "L0-_NCu10ENn"
      },
      "outputs": [],
      "source": [
        "# # Define column names\n",
        "x_axis = 't.strain'\n",
        "y1_axis = 't.stress'\n",
        "y2_axis = 'hard.Rate'\n",
        "\n",
        "# Set the value of k for spline interpolation\n",
        "k_value = 5\n",
        "\n",
        "ee = 0.001\n",
        "\n",
        "# Excel data file path\n",
        "file_path = '/content/fitted_hard_rate_cal.xlsx'\n",
        "\n",
        "# PDF path for the research paper\n",
        "pdf_file_path = \"/content/rs.pdf\"\n",
        "\n",
        "# link to the research paper\n",
        "link = \"http://www/google.com\"\n",
        "\n",
        "\n",
        "# Keywords to search for\n",
        "keywords = {\"stress\", \"strain\", \"additive manufacturing\", \"cast\", \"forge\", \"powder\", \"rolling\", \"extrusion\"}\n"
      ]
    },
    {
      "cell_type": "markdown",
      "metadata": {
        "id": "W2QAH64gaUEV"
      },
      "source": [
        "# All import statments"
      ]
    },
    {
      "cell_type": "code",
      "execution_count": null,
      "metadata": {
        "colab": {
          "base_uri": "https://localhost:8080/"
        },
        "id": "i7gbVRyUaTsv",
        "outputId": "3004c699-c86c-49bf-bff5-75a6f58cf6c7"
      },
      "outputs": [
        {
          "output_type": "stream",
          "name": "stdout",
          "text": [
            "Requirement already satisfied: PyPDF2 in /usr/local/lib/python3.11/dist-packages (3.0.1)\n",
            "Reading package lists... Done\n",
            "Building dependency tree... Done\n",
            "Reading state information... Done\n",
            "poppler-utils is already the newest version (22.02.0-2ubuntu0.5).\n",
            "0 upgraded, 0 newly installed, 0 to remove and 49 not upgraded.\n",
            "Reading package lists... Done\n",
            "Building dependency tree... Done\n",
            "Reading state information... Done\n",
            "tesseract-ocr is already the newest version (4.1.1-2.1build1).\n",
            "0 upgraded, 0 newly installed, 0 to remove and 49 not upgraded.\n",
            "Requirement already satisfied: pytesseract in /usr/local/lib/python3.11/dist-packages (0.3.13)\n",
            "Requirement already satisfied: packaging>=21.3 in /usr/local/lib/python3.11/dist-packages (from pytesseract) (24.2)\n",
            "Requirement already satisfied: Pillow>=8.0.0 in /usr/local/lib/python3.11/dist-packages (from pytesseract) (11.1.0)\n",
            "Requirement already satisfied: pytesseract in /usr/local/lib/python3.11/dist-packages (0.3.13)\n",
            "Requirement already satisfied: pdf2image in /usr/local/lib/python3.11/dist-packages (1.17.0)\n",
            "Requirement already satisfied: packaging>=21.3 in /usr/local/lib/python3.11/dist-packages (from pytesseract) (24.2)\n",
            "Requirement already satisfied: Pillow>=8.0.0 in /usr/local/lib/python3.11/dist-packages (from pytesseract) (11.1.0)\n",
            "Reading package lists... Done\n",
            "Building dependency tree... Done\n",
            "Reading state information... Done\n",
            "tesseract-ocr is already the newest version (4.1.1-2.1build1).\n",
            "0 upgraded, 0 newly installed, 0 to remove and 49 not upgraded.\n",
            "Requirement already satisfied: pytesseract in /usr/local/lib/python3.11/dist-packages (0.3.13)\n",
            "Requirement already satisfied: pdf2image in /usr/local/lib/python3.11/dist-packages (1.17.0)\n",
            "Requirement already satisfied: PyPDF2 in /usr/local/lib/python3.11/dist-packages (3.0.1)\n",
            "Requirement already satisfied: packaging>=21.3 in /usr/local/lib/python3.11/dist-packages (from pytesseract) (24.2)\n",
            "Requirement already satisfied: Pillow>=8.0.0 in /usr/local/lib/python3.11/dist-packages (from pytesseract) (11.1.0)\n"
          ]
        },
        {
          "output_type": "stream",
          "name": "stderr",
          "text": [
            "[nltk_data] Downloading package punkt to /root/nltk_data...\n",
            "[nltk_data]   Package punkt is already up-to-date!\n",
            "[nltk_data] Downloading package stopwords to /root/nltk_data...\n",
            "[nltk_data]   Package stopwords is already up-to-date!\n",
            "[nltk_data] Downloading package wordnet to /root/nltk_data...\n",
            "[nltk_data]   Package wordnet is already up-to-date!\n",
            "[nltk_data] Downloading package averaged_perceptron_tagger to\n",
            "[nltk_data]     /root/nltk_data...\n",
            "[nltk_data]   Package averaged_perceptron_tagger is already up-to-\n",
            "[nltk_data]       date!\n"
          ]
        },
        {
          "output_type": "execute_result",
          "data": {
            "text/plain": [
              "True"
            ]
          },
          "metadata": {},
          "execution_count": 43
        }
      ],
      "source": [
        "# Install PyPDF2 package\n",
        "!pip install PyPDF2\n",
        "!apt-get install poppler-utils\n",
        "!sudo apt install tesseract-ocr\n",
        "!pip install pytesseract\n",
        "!pip install pytesseract pdf2image\n",
        "!sudo apt install tesseract-ocr\n",
        "!pip install pytesseract pdf2image PyPDF2\n",
        "\n",
        "# Set the path to the Tesseract executable\n",
        "import pytesseract\n",
        "pytesseract.pytesseract.tesseract_cmd = r'/usr/bin/tesseract'\n",
        "import numpy as np\n",
        "import pandas as pd\n",
        "import matplotlib.pyplot as plt\n",
        "from scipy.interpolate import make_interp_spline, CubicSpline\n",
        "import re\n",
        "from PyPDF2 import PdfReader\n",
        "import nltk\n",
        "from nltk.tokenize import word_tokenize\n",
        "from nltk.corpus import stopwords, wordnet\n",
        "from nltk.stem import WordNetLemmatizer\n",
        "import string\n",
        "import json\n",
        "import os\n",
        "import PyPDF2\n",
        "\n",
        "\n",
        "\n",
        "# Download NLTK resources\n",
        "nltk.download('punkt')\n",
        "nltk.download('stopwords')\n",
        "nltk.download('wordnet')\n",
        "nltk.download('averaged_perceptron_tagger')\n"
      ]
    },
    {
      "cell_type": "code",
      "execution_count": null,
      "metadata": {
        "id": "hfuCtgo002he"
      },
      "outputs": [],
      "source": [
        "import utils"
      ]
    },
    {
      "cell_type": "markdown",
      "metadata": {
        "id": "q9Hvtk4RYLaN"
      },
      "source": [
        "- The above code block assigns the values to variables.\n",
        "- x_axis: column name of the x-axis in Excel sheet\n",
        "- y_axis: column name of the y-axis in Excel sheet\n",
        "- k_value is the polynomial degree which will be used to find the b0 value.\n",
        "- flie_path: The path of the Excel sheet\n",
        "- pdf_file_path: The file path of the research paper (format as pdf)\n",
        "- keywords: An array of keywords that you wish to find in the research paper.\n",
        "\n"
      ]
    },
    {
      "cell_type": "code",
      "execution_count": null,
      "metadata": {
        "id": "x2AX4Lai7HMP",
        "colab": {
          "base_uri": "https://localhost:8080/"
        },
        "outputId": "32bc6ab0-631c-4117-f320-1519eee73432"
      },
      "outputs": [
        {
          "output_type": "stream",
          "name": "stdout",
          "text": [
            "Drive already mounted at /content/drive; to attempt to forcibly remount, call drive.mount(\"/content/drive\", force_remount=True).\n"
          ]
        }
      ],
      "source": [
        "from google.colab import drive\n",
        "import os\n",
        "import pandas as pd\n",
        "\n",
        "# Mount Google Drive\n",
        "drive.mount('/content/drive')\n",
        "\n",
        "# Directory containing all the data folders\n",
        "data_directory = \"/content/drive/MyDrive/Colab Notebooks/Material_Science/0116202\"\n"
      ]
    },
    {
      "cell_type": "markdown",
      "metadata": {
        "id": "H2509BHtGQI6"
      },
      "source": [
        "# Find best paraameters"
      ]
    },
    {
      "cell_type": "code",
      "execution_count": null,
      "metadata": {
        "id": "9MntwhDKr7bW"
      },
      "outputs": [],
      "source": [
        "# Changing the data points to change accomodate the current implementation\n",
        "\n"
      ]
    },
    {
      "cell_type": "markdown",
      "metadata": {
        "id": "FW2dj6B-KR7f"
      },
      "source": [
        "# Find Best B0 in a method"
      ]
    },
    {
      "cell_type": "code",
      "execution_count": null,
      "metadata": {
        "id": "ZuJDxeEAKV2Z"
      },
      "outputs": [],
      "source": [
        "import pandas as pd\n",
        "import numpy as np\n",
        "import matplotlib.pyplot as plt\n",
        "from scipy.interpolate import make_interp_spline\n",
        "\n",
        "def calculate_b0_range(file_path, x_axis, y2_axis, k_value):\n",
        "\n",
        "    # Read Excel file\n",
        "    df = pd.read_excel(file_path)\n",
        "\n",
        "    # Remove the last row\n",
        "    df = df.drop(df.tail(2).index)\n",
        "\n",
        "    # Extract x and y columns\n",
        "    x = df[x_axis].values\n",
        "    y = df[y2_axis].values\n",
        "\n",
        "    # Check for and handle NaN or infinite values\n",
        "    mask = np.isfinite(x) & np.isfinite(y)\n",
        "    x = x[mask]\n",
        "    y = y[mask]\n",
        "    minimum = 130000\n",
        "    for i in range(len(y)):\n",
        "      minimum = min(minimum, y[i-1] - y[i])\n",
        "    threshold = minimum\n",
        "    threshold = 10\n",
        "    # Extract x and y values\n",
        "    indication = 1\n",
        "    for k in range(1, len(y)):\n",
        "        if y[k] > y[k - 1]:\n",
        "            indication = 0\n",
        "\n",
        "    if indication == 1:\n",
        "        # Identify where the differences in y-values are below the threshold\n",
        "        y_diff = np.diff(y)\n",
        "        close_indices = np.where(np.abs(y_diff) < threshold)[0]\n",
        "\n",
        "        if len(close_indices) > 0:\n",
        "            clusters = []\n",
        "            current_cluster = [close_indices[0]]\n",
        "\n",
        "            for i in range(1, len(close_indices)):\n",
        "                if close_indices[i] == close_indices[i-1] + 1:\n",
        "                    current_cluster.append(close_indices[i])\n",
        "                else:\n",
        "                    if len(current_cluster) > 1 and current_cluster[0] != 0:\n",
        "                        clusters.append(current_cluster)\n",
        "                    current_cluster = [close_indices[i]]\n",
        "\n",
        "            if len(current_cluster) > 1 and current_cluster[0] != 0:\n",
        "                clusters.append(current_cluster)\n",
        "\n",
        "            if clusters:\n",
        "                # Find the longest cluster\n",
        "                longest_cluster = max(clusters, key=len)\n",
        "                count = 0\n",
        "                total_count = len(longest_cluster) // 2\n",
        "\n",
        "                for i in longest_cluster:\n",
        "                    if count < total_count:\n",
        "                        y[i] = y[i-1] + 1\n",
        "                    else:\n",
        "                        y[i] = y[i-1] - 1\n",
        "                    count += 1\n",
        "\n",
        "    # Perform cubic spline interpolation\n",
        "    spline_interp = make_interp_spline(x, y, k=k_value)\n",
        "\n",
        "    # Generate new x values for interpolation\n",
        "    x_new = np.linspace(min(x), max(x), 100)\n",
        "\n",
        "    # Perform interpolation\n",
        "    y_new = spline_interp(x_new)\n",
        "\n",
        "    # Fit cubic polynomial to the entire dataset\n",
        "    coefficients = np.polyfit(x, y, k_value)\n",
        "\n",
        "    # Print the coefficients\n",
        "    print(\"Cubic Polynomial Coefficients:\", coefficients)\n",
        "\n",
        "    # Generate y values for the cubic polynomial\n",
        "    y_cubic = np.polyval(coefficients, x_new)\n",
        "\n",
        "    # Dynamic equation print\n",
        "    cubic_equation = \"Polynomial Equation: \"\n",
        "    for i, coef in enumerate(coefficients):\n",
        "        cubic_equation += f\"{coef:.6f} x^{k_value-i} + \" if i < k_value else f\"{coef:.6f}\"\n",
        "    print()\n",
        "\n",
        "    # Remove the trailing ' + ' at the end\n",
        "    cubic_equation = cubic_equation.rstrip(' + ')\n",
        "    print(cubic_equation)\n",
        "    print()\n",
        "\n",
        "    # Take the derivative of the polynomial\n",
        "    derivative_coefficients = np.polyder(coefficients)\n",
        "\n",
        "    # Dynamic equation print for the derivative\n",
        "    derivative_equation = \"Derivative Equation: \"\n",
        "    for i, coef in enumerate(derivative_coefficients):\n",
        "        derivative_equation += f\"{coef:.6f} x^{k_value-1 -i} + \" if i < k_value-1 else f\"{coef:.6f}\"\n",
        "\n",
        "    # Remove the trailing ' + ' at the end\n",
        "    derivative_equation = derivative_equation.rstrip(' + ')\n",
        "    print(derivative_equation)\n",
        "    print()\n",
        "\n",
        "    # Find the roots (zeros) of the derivative equation\n",
        "    roots = np.roots(derivative_coefficients)\n",
        "    print(\"Roots (Zeros) of the Derivative Equation:\", roots)\n",
        "    print()\n",
        "\n",
        "    # Calculate y values for each root using the original cubic polynomial\n",
        "    y_roots = np.polyval(coefficients, roots)\n",
        "\n",
        "    # Print the corresponding y values for the roots\n",
        "    for i, root in enumerate(roots):\n",
        "        print(f\"For x = {root:.6f}, y = {y_roots[i]:.6f}\")\n",
        "    print()\n",
        "\n",
        "    # Plot the original data, interpolated curve, and cubic polynomial\n",
        "    plt.scatter(x, y, label='Original Data')\n",
        "    plt.plot(x_new, y_new, label='Interpolated Curve', color='red')\n",
        "    plt.plot(x_new, y_cubic, label='Polynomial', linestyle='dashed', color='green')\n",
        "    plt.xlabel('X-axis')\n",
        "    plt.ylabel('Y-axis')\n",
        "    plt.legend()\n",
        "    plt.title('Interpolation and Polynomial Fit')\n",
        "    plt.show()\n",
        "\n",
        "    # Filter out the original y values and assign them back\n",
        "    y_roots = [np.real(y_roots[i]) for i in range(len(roots)) if np.isclose(np.imag(y_roots[i]), 0)]\n",
        "\n",
        "    # Print the corresponding y values for the original roots\n",
        "    print(\"Original Y Values for the Roots:\")\n",
        "    for root, y_value in zip(roots, y_roots):\n",
        "        if np.isclose(np.imag(y_value), 0):\n",
        "            print(f\"For x = {root:.6f}, y = {y_value:.6f}\")\n",
        "    print()\n",
        "\n",
        "    # Sort the y_roots array\n",
        "    y_roots_sorted = np.sort(y_roots)\n",
        "\n",
        "    # Find the differences between consecutive roots\n",
        "    differences = np.diff(y_roots_sorted)\n",
        "\n",
        "    # Find the index of the minimum difference\n",
        "    min_diff_index = np.argmin(differences)\n",
        "\n",
        "    # Determine the indices of the two closest roots\n",
        "    index1 = min_diff_index\n",
        "    index2 = min_diff_index + 1\n",
        "\n",
        "    # Store the minimum and maximum values\n",
        "    min_b0 = min(y_roots_sorted[index1], y_roots_sorted[index2])\n",
        "    max_b0 = max(y_roots_sorted[index1], y_roots_sorted[index2])\n",
        "\n",
        "    print(\"Minimum b0:\", min_b0)\n",
        "    print(\"Maximum b0:\", max_b0)\n",
        "\n",
        "    # Round down min_b0 to the nearest hundred\n",
        "    rounded_min_b0 = int(min_b0 // 100) * 100\n",
        "\n",
        "    # Calculate from_b0 and to_b0\n",
        "    from_b0 = rounded_min_b0 - 100\n",
        "    to_b0 = rounded_min_b0 + 200\n",
        "\n",
        "    # Print from_b0 and to_b0\n",
        "    print(\"From_b0:\", from_b0)\n",
        "    print(\"To_b0:\", to_b0)\n",
        "\n",
        "    return from_b0, to_b0"
      ]
    },
    {
      "cell_type": "markdown",
      "metadata": {
        "id": "gxS3MbGKZwpz"
      },
      "source": [
        "- The above code find the best b0_value.\n",
        "- Step 1: Generate a polynomial equation of k degree.\n",
        "- Step 2: Find the derivative of that equation.\n",
        "- Step 3: Find the roots of that derivative.\n",
        "- Step 4: Substitute the roots in the original equation to get the b0_values.\n",
        "- The number of b0_values that you get is k-1."
      ]
    },
    {
      "cell_type": "markdown",
      "metadata": {
        "id": "YpCVXX-jaSVE"
      },
      "source": [
        "- The above code extracts the original b0_values.\n",
        "- The 2 y values that are close to each other are the original values out of all the values."
      ]
    },
    {
      "cell_type": "markdown",
      "metadata": {
        "id": "EM5N-mMeasOX"
      },
      "source": [
        "- To get accurate b0_values we consider some values which are less than and greater than b0_values."
      ]
    },
    {
      "cell_type": "markdown",
      "metadata": {
        "id": "kbJ3XV1YMO5j"
      },
      "source": [
        "# Find Best D1 in a method"
      ]
    },
    {
      "cell_type": "code",
      "execution_count": null,
      "metadata": {
        "id": "8t0XS9jiMRxk"
      },
      "outputs": [],
      "source": [
        "import pandas as pd\n",
        "import numpy as np\n",
        "import matplotlib.pyplot as plt\n",
        "from scipy.interpolate import CubicSpline\n",
        "\n",
        "def calculate_min_max_slope(file_path, x_axis, y2_axis):\n",
        "    # Set display options to show all rows and columns\n",
        "    pd.set_option('display.max_rows', None)\n",
        "    pd.set_option('display.max_columns', None)\n",
        "\n",
        "    # Define the column names\n",
        "    column_names = [x_axis, y2_axis]\n",
        "\n",
        "    # Read only the specified columns from Excel file\n",
        "    data = pd.read_excel(file_path, usecols=column_names)\n",
        "\n",
        "    # Drop rows with missing or non-finite values\n",
        "    data.dropna(inplace=True)\n",
        "\n",
        "\n",
        "    # Extract x and y values\n",
        "    x = data[column_names[0]].values\n",
        "    y = data[column_names[1]].values\n",
        "\n",
        "    minimum = 130000\n",
        "    for i in range(1, len(y)):\n",
        "      minimum = min(minimum, y[i-1]-y[i])\n",
        "    threshold = minimum\n",
        "    # print(threshold)\n",
        "    threshold = 10\n",
        "    indication = 1\n",
        "    for k in range(1, len(y)):\n",
        "        if y[k] > y[k - 1]:\n",
        "            indication = 0\n",
        "    if indication == 1:\n",
        "        # Identify where the differences in y-values are below the threshold\n",
        "        y_diff = np.diff(y)\n",
        "        close_indices = np.where(np.abs(y_diff) < threshold)[0]\n",
        "\n",
        "        if len(close_indices) > 0:\n",
        "            clusters = []\n",
        "            current_cluster = [close_indices[0]]\n",
        "\n",
        "            for i in range(1, len(close_indices)):\n",
        "                if close_indices[i] == close_indices[i-1] + 1:\n",
        "                    current_cluster.append(close_indices[i])\n",
        "                else:\n",
        "                    if len(current_cluster) > 1 and current_cluster[0] != 0:\n",
        "                        clusters.append(current_cluster)\n",
        "                    current_cluster = [close_indices[i]]\n",
        "\n",
        "            if len(current_cluster) > 1 and current_cluster[0] != 0:\n",
        "                clusters.append(current_cluster)\n",
        "\n",
        "            if clusters:\n",
        "                # Find the longest cluster\n",
        "                longest_cluster = max(clusters, key=len)\n",
        "                count = 0\n",
        "                total_count = len(longest_cluster) // 2\n",
        "\n",
        "                for i in longest_cluster:\n",
        "                    if count < total_count:\n",
        "                        y[i] = y[i-1] + 1\n",
        "                    else:\n",
        "                        y[i] = y[i-1] - 1\n",
        "                    count += 1\n",
        "\n",
        "    # Fit a cubic spline to the data\n",
        "    cs = CubicSpline(x, y)\n",
        "    # Calculate the slope for each data point\n",
        "    slopes = cs(x, 1)\n",
        "\n",
        "    # Print the slopes along with their corresponding x and y values\n",
        "    print(\"Point   |   x       |   y       |   Slope\")\n",
        "    print(\"---------------------------------------------\")\n",
        "    for i, (x_val, y_val, slope_val) in enumerate(zip(x, y, slopes)):\n",
        "        print(f\"{i+1}       |   {x_val:.3f}   |   {y_val:.3f}   |   {slope_val:.3f}\")\n",
        "\n",
        "    # Plot the original data and cubic spline\n",
        "    plt.figure(figsize=(12, 8))\n",
        "    plt.plot(x, y, 'bo', label='Data')\n",
        "    plt.plot(x, cs(x), 'r-', label='Cubic Spline')\n",
        "    plt.xlabel(column_names[0])\n",
        "    plt.ylabel(column_names[1])\n",
        "    plt.title('Original Data and Cubic Spline Fit')\n",
        "    plt.legend()\n",
        "    plt.show()\n",
        "\n",
        "    # Filter out negative slopes and their corresponding x, y values\n",
        "    positive_slope_indices = np.where(slopes > 0)[0]\n",
        "    x_positive = x[positive_slope_indices]\n",
        "    y_positive = y[positive_slope_indices]\n",
        "\n",
        "    # Calculate the differences between consecutive slopes\n",
        "    slope_diffs = np.diff(slopes[positive_slope_indices])\n",
        "\n",
        "    # Consider only the first 10 values or the available maximum\n",
        "    max_values = min(5, len(x_positive))\n",
        "    x_positive = x_positive[:max_values]\n",
        "    y_positive = y_positive[:max_values]\n",
        "    slope_diffs = slope_diffs[:max_values-1]  # As there are max_values-1 differences for max_values values\n",
        "\n",
        "    # Initialize an empty array to store the slopes for which the information is printed\n",
        "    printed_slopes = []\n",
        "\n",
        "    # Plot the original data and cubic spline\n",
        "    plt.figure(figsize=(12, 8))\n",
        "    plt.plot(x, y, 'bo', label='Data')\n",
        "    plt.plot(x, cs(x), 'r-', label='Cubic Spline')\n",
        "    plt.xlabel(column_names[0])\n",
        "    plt.ylabel(column_names[1])\n",
        "    plt.title('Original Data and Cubic Spline Fit')\n",
        "    plt.legend()\n",
        "\n",
        "    # Add point numbers with a gap above the points in the plot\n",
        "    gap = 50  # Adjust the gap as needed\n",
        "    for i, (x_val, y_val) in enumerate(zip(x_positive, y_positive)):\n",
        "        plt.text(x_val, y_val + gap, f\"{i+1}\", fontsize=10, ha='center', va='center')\n",
        "        printed_slopes.append(slopes[positive_slope_indices][i])\n",
        "\n",
        "    plt.grid(True)\n",
        "\n",
        "    # Store data point, x, y, and its difference in a new array\n",
        "    data_and_differences = np.column_stack((x_positive[:-1], y_positive[:-1], slope_diffs, printed_slopes[:-1]))\n",
        "\n",
        "    print(\"Data Point | x Value | y Value | Difference | Slope:\")\n",
        "    print(\"----------------------------------------------------\")\n",
        "    for i, (x_val, y_val, diff, slope) in enumerate(data_and_differences):\n",
        "        print(f\"{i+1}       |   {x_val:.3f}   |   {y_val:.3f}   |   {diff:.3f}   |   {slope:.3f}\")\n",
        "\n",
        "    # Calculate the average of the slopes\n",
        "    average_slope_printed = np.mean(printed_slopes[:-1])\n",
        "    print(\"\\nAverage Slope of Printed Slopes:\", average_slope_printed)\n",
        "\n",
        "    plt.show()\n",
        "\n",
        "    max_d1 = printed_slopes[0]\n",
        "    min_d1 = printed_slopes[0]\n",
        "\n",
        "    # Iterate through printed slopes to find max and min\n",
        "    for slope in printed_slopes[1:]:\n",
        "        if slope > max_d1:\n",
        "            max_d1 = slope\n",
        "        elif slope < min_d1:\n",
        "            min_d1 = slope\n",
        "\n",
        "    # Print the maximum and minimum slopes\n",
        "    print(\"\\nMinimum Slope:\", min_d1)\n",
        "    print(\"Maximum Slope:\", max_d1)\n",
        "    if max_d1 - min_d1 > 3500:\n",
        "      max_d1 = min_d1 + 3500\n",
        "    return int(min_d1), int(max_d1)"
      ]
    },
    {
      "cell_type": "markdown",
      "metadata": {
        "id": "16ROasD3a5XK"
      },
      "source": [
        "- The above code generate the slopes of the curve at each data points."
      ]
    },
    {
      "cell_type": "markdown",
      "metadata": {
        "id": "w6CMnL7VbNTt"
      },
      "source": [
        "- The above code calculates the difference between consecutive slopes."
      ]
    },
    {
      "cell_type": "markdown",
      "metadata": {
        "id": "9miHF67-bXTv"
      },
      "source": [
        "- The above code narrow down the slopes.\n",
        "- It finds the slope where there is a rapid change in the first part of the curve, the d1 ranges somewhere near that slope."
      ]
    },
    {
      "cell_type": "markdown",
      "metadata": {
        "id": "kOdQPko5brDy"
      },
      "source": [
        "- The above code finds the average slope out of the narrowed slopes."
      ]
    },
    {
      "cell_type": "markdown",
      "metadata": {
        "id": "LwbV19Rjb1Yt"
      },
      "source": [
        "- The above considers the maximum and minimum slopes in the narrowed slopes.\n",
        "- The d1 lies between the minimum and maximum slope."
      ]
    },
    {
      "cell_type": "markdown",
      "metadata": {
        "id": "M1o0z4xoN-3g"
      },
      "source": [
        "# Find all best parametes in a methods"
      ]
    },
    {
      "cell_type": "code",
      "execution_count": null,
      "metadata": {
        "id": "GJKkPnowOCV5"
      },
      "outputs": [],
      "source": [
        "import pandas as pd\n",
        "import numpy as np\n",
        "from itertools import product\n",
        "\n",
        "def find_best_parameters(file_path, x_axis, y2_axis, from_b0, to_b0, min_d1, max_d1, ee):\n",
        "\n",
        "    # Read data from Excel file\n",
        "    data = pd.read_excel(file_path)\n",
        "    original_results = data[y2_axis].values\n",
        "    ep_values = data[x_axis].values\n",
        "\n",
        "    # Vectorized calculation of MSE\n",
        "    def calculate_mse_vectorized(b0, d1, d2, ei, original_results):\n",
        "        ep_diff = (ep_values - ei) / (ei + ee)\n",
        "        condition = np.abs(ep_diff) < 1\n",
        "        arctanh_values = np.arctanh(ep_diff[condition])\n",
        "\n",
        "        result = b0 - d1 * ((np.abs(ep_diff[condition]) * arctanh_values) - (d2 * ep_diff[condition]))\n",
        "        mse = np.mean((original_results[:len(result)] - result) ** 2)\n",
        "        euclidean_distance = np.sqrt(np.sum((original_results[:len(result)] - result) ** 2))\n",
        "\n",
        "        return euclidean_distance\n",
        "\n",
        "    # Generate grid of parameters\n",
        "    b0_values = np.arange(from_b0, to_b0, 10)\n",
        "    d1_values = np.arange(min_d1, max_d1, 5)\n",
        "    d2_values = np.arange(0.2, 0.5, 0.05)\n",
        "    ei_values = np.arange(0.1, 0.285, 0.05)\n",
        "\n",
        "    # Use itertools.product to create a grid of parameters\n",
        "    param_grid = product(b0_values, d1_values, d2_values, ei_values)\n",
        "\n",
        "    # Initialize variables to store best parameters\n",
        "    best_b0, best_d1, best_d2, best_ei = None, None, None, None\n",
        "    min_mse = float('inf')\n",
        "\n",
        "    # Iterate over parameter grid and calculate MSE\n",
        "    for b0, d1, d2, ei in param_grid:\n",
        "        mse_value = calculate_mse_vectorized(b0, d1, d2, ei, original_results)\n",
        "        if mse_value < min_mse:\n",
        "            min_mse = mse_value\n",
        "            best_b0, best_d1, best_d2, best_ei = b0, d1, d2, ei\n",
        "\n",
        "    print(\"Best Parameters:\")\n",
        "    print(\"B0:\", best_b0)\n",
        "    print(\"D1:\", best_d1)\n",
        "    print(\"D2:\", best_d2)\n",
        "    print(\"Ei:\", best_ei)\n",
        "\n",
        "    return best_b0, best_d1, best_d2, best_ei, min_mse\n"
      ]
    },
    {
      "cell_type": "markdown",
      "metadata": {
        "id": "Zi0MNiVLcF9n"
      },
      "source": [
        "- The above code defines a method that calculates the mean square error (euclidean distance) based on the formula given in the paper which contains the 5 parameters."
      ]
    },
    {
      "cell_type": "markdown",
      "metadata": {
        "id": "BLw9u-5DcWaC"
      },
      "source": [
        "- The above code runs loops to find the best parameter combination.\n",
        "- The original points (given in the excel sheet) are compared with the y values that are generated by the equations.\n",
        "- The combination which has least error is the best parameter combination.\n",
        "- We have narrowed the b0 and d1 values which makes the loop run quickly and efficiently."
      ]
    },
    {
      "cell_type": "markdown",
      "metadata": {
        "id": "bLnoLLiNPGH3"
      },
      "source": [
        "# Comparision graph in a method"
      ]
    },
    {
      "cell_type": "code",
      "execution_count": null,
      "metadata": {
        "id": "bcDfdZGePKYh"
      },
      "outputs": [],
      "source": [
        "import pandas as pd\n",
        "import numpy as np\n",
        "import matplotlib.pyplot as plt\n",
        "\n",
        "def plot_comparison(file_path, x_axis, y2_axis, best_b0, best_d1, best_d2, ee, best_ei):\n",
        "    # Read data from Excel file\n",
        "    data = pd.read_excel(file_path)\n",
        "    x_values = data[x_axis].values\n",
        "    original_x_values = data[x_axis].values\n",
        "    original_y_values = data[y2_axis].values\n",
        "\n",
        "    # Define function to calculate y values\n",
        "    def calculate(b0, d1, d2, ee, ei, ep):\n",
        "        result = np.zeros_like(ep)\n",
        "        for i in range(len(ep)):\n",
        "            # Ensure values are not None\n",
        "            if ep[i] is not None and ei is not None and ee is not None:\n",
        "                if abs((ep[i] - ei) / (ei + ee)) < 1:\n",
        "                    result[i] = b0 - d1 * (abs((ep[i] - ei) / (ei + ee)) * np.arctanh((ep[i] - ei) / (ei + ee)) - d2 * ((ep[i] - ei) / (ei + ee)))\n",
        "        return result\n",
        "\n",
        "    # Calculate y values using the provided function\n",
        "    y_values = calculate(best_b0, best_d1, best_d2, ee, best_ei, x_values)\n",
        "\n",
        "    # Plot x-y values\n",
        "    plt.figure(figsize=(10, 6))\n",
        "    plt.plot(x_values, y_values, label='Calculated', color='blue')\n",
        "    plt.plot(original_x_values, original_y_values, label='Original', color='red')\n",
        "    plt.xlabel('X-axis')\n",
        "    plt.ylabel('Y-axis')\n",
        "    plt.title('Comparison of Calculated and Original Data')\n",
        "    plt.legend()\n",
        "    plt.grid(True)\n",
        "    plt.show()\n"
      ]
    },
    {
      "cell_type": "code",
      "execution_count": null,
      "metadata": {
        "collapsed": true,
        "id": "2qHLczPjFQRl"
      },
      "outputs": [],
      "source": [
        "# print(\"Calculating B0 range...\")\n",
        "# # Calculate range for B0\n",
        "# from_b0, to_b0 = calculate_b0_range(file_path, x_axis, y2_axis, k_value)\n",
        "\n",
        "# print(\"Calculating min and max slope values for D1...\")\n",
        "# # Calculate min and max slope values for D1\n",
        "# min_d1, max_d1 = calculate_min_max_slope(file_path, x_axis, y2_axis)\n",
        "# print(\"Finding best parameters...\")\n",
        "# # Find best parameters\n",
        "# # max_d1 = 7000\n",
        "# # best_b0, best_d1, best_d2, best_ei, min_mse = find_best_parameters(from_b0, to_b0, min_d1, max_d1)\n",
        "# best_b0, best_d1, best_d2, best_ei, min_mse = find_best_parameters(file_path, x_axis, y2_axis, from_b0, to_b0, min_d1, max_d1, ee)\n",
        "\n",
        "# print(\"Plotting comparison...\")\n",
        "# # Plot comparison\n",
        "# plot_comparison(file_path, x_axis, y2_axis, best_b0, best_d1, best_d2, ee, best_ei)"
      ]
    },
    {
      "cell_type": "markdown",
      "metadata": {
        "id": "dn3OBRb-czOp"
      },
      "source": [
        "- In the above code we compare the original graph with the graph values generated by the equation from the parameters we found in the above step."
      ]
    },
    {
      "cell_type": "markdown",
      "metadata": {
        "id": "ZRlQtm_nQcZz"
      },
      "source": [
        "# Extract Keywords in a method"
      ]
    },
    {
      "cell_type": "code",
      "execution_count": null,
      "metadata": {
        "id": "KqClNLpyQo3L"
      },
      "outputs": [],
      "source": [
        "def extract_and_find_lemmas(pdf_file_path, keywords):\n",
        "    all_lemmas = []\n",
        "\n",
        "    # Parse the PDF and extract text\n",
        "    text = \"\"\n",
        "    try:\n",
        "        with open(pdf_file_path, \"rb\") as f:\n",
        "            pdf_reader = PyPDF2.PdfReader(f)\n",
        "            num_pages = len(pdf_reader.pages)\n",
        "            for page_number in range(num_pages):\n",
        "                text += pdf_reader.pages[page_number].extract_text()\n",
        "    except PyPDF2.utils.PdfReadError as e:\n",
        "        print(\"Error reading PDF file:\", e)\n",
        "        return None, None\n",
        "    except Exception as e:\n",
        "        print(\"An error occurred:\", e)\n",
        "        return None, None\n",
        "\n",
        "    # Tokenize the text\n",
        "    words = word_tokenize(text)\n",
        "\n",
        "    # Remove stop words and punctuation, and lemmatize\n",
        "    stop_words = set(stopwords.words('english'))\n",
        "    lemmatizer = WordNetLemmatizer()\n",
        "\n",
        "    for word in words:\n",
        "        if word.lower() not in stop_words and word not in string.punctuation:\n",
        "            lemma = lemmatizer.lemmatize(word, pos=get_wordnet_pos(word))\n",
        "            for keyword in keywords:\n",
        "                if keyword in lemma and lemma not in all_lemmas:\n",
        "                    all_lemmas.append(lemma)\n",
        "\n",
        "    return text, all_lemmas\n",
        "\n",
        "# Function to map POS tag to first character lemmatize() accepts\n",
        "def get_wordnet_pos(word):\n",
        "    tag = nltk.pos_tag([word])[0][1][0].upper()\n",
        "    tag_dict = {\"J\": wordnet.ADJ, \"N\": wordnet.NOUN, \"V\": wordnet.VERB, \"R\": wordnet.ADV}\n",
        "    return tag_dict.get(tag, wordnet.NOUN)\n",
        "\n",
        "\n",
        "\n"
      ]
    },
    {
      "cell_type": "code",
      "execution_count": null,
      "metadata": {
        "id": "20PtOyTEZcDj"
      },
      "outputs": [],
      "source": [
        "import PyPDF2\n",
        "import pytesseract\n",
        "from pdf2image import convert_from_path\n",
        "import nltk\n",
        "from nltk.tokenize import word_tokenize\n",
        "from nltk.corpus import stopwords, wordnet\n",
        "from nltk.stem import WordNetLemmatizer\n",
        "import string\n",
        "\n",
        "# Ensure that you have Tesseract installed and provide its path if needed\n",
        "# pytesseract.pytesseract.tesseract_cmd = r'path_to_tesseract_executable'\n",
        "\n",
        "def extract_and_find_lemmas(pdf_file_path, keywords):\n",
        "    all_lemmas = []\n",
        "    text = \"\"\n",
        "\n",
        "    try:\n",
        "        with open(pdf_file_path, \"rb\") as f:\n",
        "            pdf_reader = PyPDF2.PdfReader(f)\n",
        "            num_pages = len(pdf_reader.pages)\n",
        "\n",
        "            # Attempt to extract text from the PDF using PyPDF2\n",
        "            for page_number in range(num_pages):\n",
        "                page_text = pdf_reader.pages[page_number].extract_text()\n",
        "                if page_text:\n",
        "                    text += page_text\n",
        "\n",
        "            # If no text was extracted, try OCR\n",
        "            if not text.strip():\n",
        "                print(\"No text extracted from PDF. Attempting OCR...\")\n",
        "                text = extract_text_from_images(pdf_file_path)\n",
        "\n",
        "    except PyPDF2.utils.PdfReadError as e:\n",
        "        print(\"Error reading PDF file:\", e)\n",
        "        return None, None\n",
        "    except Exception as e:\n",
        "        print(\"An error occurred:\", e)\n",
        "        return None, None\n",
        "\n",
        "    # Tokenize the text\n",
        "    words = word_tokenize(text)\n",
        "\n",
        "    # Remove stop words and punctuation, and lemmatize\n",
        "    stop_words = set(stopwords.words('english'))\n",
        "    lemmatizer = WordNetLemmatizer()\n",
        "\n",
        "    for word in words:\n",
        "        if word.lower() not in stop_words and word not in string.punctuation:\n",
        "            lemma = lemmatizer.lemmatize(word, pos=get_wordnet_pos(word))\n",
        "            for keyword in keywords:\n",
        "                if keyword in lemma and lemma not in all_lemmas:\n",
        "                    all_lemmas.append(lemma)\n",
        "\n",
        "    return text, all_lemmas\n",
        "\n",
        "\n",
        "# Function to map POS tag to first character lemmatize() accepts\n",
        "def get_wordnet_pos(word):\n",
        "    tag = nltk.pos_tag([word])[0][1][0].upper()\n",
        "    tag_dict = {\"J\": wordnet.ADJ, \"N\": wordnet.NOUN, \"V\": wordnet.VERB, \"R\": wordnet.ADV}\n",
        "    return tag_dict.get(tag, wordnet.NOUN)\n",
        "\n",
        "# Function to handle image-based PDFs using OCR\n",
        "def extract_text_from_images(pdf_file_path):\n",
        "    # Convert PDF to a list of images, one image per page\n",
        "    images = convert_from_path(pdf_file_path)\n",
        "    text = \"\"\n",
        "\n",
        "    for image in images:\n",
        "        # Use pytesseract to do OCR on the image\n",
        "        text += pytesseract.image_to_string(image)\n",
        "\n",
        "    return text\n",
        "\n"
      ]
    },
    {
      "cell_type": "markdown",
      "metadata": {
        "id": "ZOD_bCCSdE9w"
      },
      "source": [
        "- The above code reads the pdf paper and extracts the keywords using natural language processing libraries."
      ]
    },
    {
      "cell_type": "markdown",
      "metadata": {
        "id": "dxg9919RRYFS"
      },
      "source": [
        "# Extract the chemical composition in a method"
      ]
    },
    {
      "cell_type": "code",
      "execution_count": null,
      "metadata": {
        "id": "AdYC-R94Ra0h"
      },
      "outputs": [],
      "source": [
        "def extract_chemical_compositions_from_pdf(pdf_file_path, min_length=8):\n",
        "    with open(pdf_file_path, 'rb') as file:\n",
        "        reader = PdfReader(file)\n",
        "        text = ''\n",
        "        for page in reader.pages:\n",
        "            text += page.extract_text()\n",
        "\n",
        "    return extract_chemical_compositions(text, min_length)\n",
        "\n",
        "def extract_chemical_compositions(text, min_length=8):\n",
        "    pattern = r'\\b(?:[A-Z][a-z]?\\d*(?:\\.\\d+)?)+\\b'\n",
        "    chemical_compositions = re.findall(pattern, text)\n",
        "    # Filter compositions based on minimum length\n",
        "    chemical_compositions = [comp for comp in chemical_compositions if len(comp) >= min_length]\n",
        "    return chemical_compositions\n",
        "\n",
        "def combine_words(text):\n",
        "    # Split the text into individual words\n",
        "    words = text.split()\n",
        "\n",
        "    # Iterate through the words\n",
        "    i = 0\n",
        "    while i < len(words) - 1:\n",
        "        # Check if the current word ends with a number and the next word starts with a character\n",
        "        if words[i][-1].isdigit() and words[i+1][0].isalpha():\n",
        "            # Combine the words\n",
        "            words[i] += words[i+1]\n",
        "            # Remove the next word\n",
        "            del words[i+1]\n",
        "        # Check if the current word ends with a character and the next word starts with a number\n",
        "        elif words[i][-1].isalpha() and words[i+1][0].isdigit():\n",
        "            # Combine the words\n",
        "            words[i] += words[i+1]\n",
        "            # Remove the next word\n",
        "            del words[i+1]\n",
        "        else:\n",
        "            # Move to the next pair of words\n",
        "            i += 1\n",
        "\n",
        "    # Join the words back into a single string\n",
        "    combined_text = ' '.join(words)\n",
        "    return combined_text\n",
        "\n",
        "import re\n",
        "\n",
        "def create_element_dictionary(chemical_composition):\n",
        "    # Initialize an empty dictionary to store key-value pairs\n",
        "    elements = {}\n",
        "\n",
        "    # Split the composition string into element symbol and numeric value pairs\n",
        "    # The regular expression (\\D+)(\\d*\\.?\\d*) matches non-digit characters (element symbols) followed by optional digits (numeric values)\n",
        "    matches = re.findall(r'([A-Z][a-z]?)(\\d*\\.?\\d*)', chemical_composition)\n",
        "\n",
        "    # Iterate through the matches\n",
        "    for match in matches:\n",
        "        # Extract the element symbol\n",
        "        element = match[0]\n",
        "\n",
        "        # Extract the numeric value, or 0 if not provided\n",
        "        value = float(match[1]) if match[1] else 1.0\n",
        "\n",
        "        # Add the element and its value to the dictionary\n",
        "        elements[element] = value\n",
        "\n",
        "    return elements\n",
        "\n",
        "\n",
        "\n",
        "\n",
        "def find_max_size_chemical(text ,pdf_file_path):\n",
        "    chemicals = extract_chemical_compositions_from_pdf(pdf_file_path)\n",
        "    combined_text = combine_words(text)\n",
        "    chemicals = extract_chemical_compositions(combined_text)\n",
        "    print()\n",
        "    print(chemicals)\n",
        "    if not chemicals:\n",
        "        print(\"No chemical compositions found in the text.\")\n",
        "        return None\n",
        "    max_size_chemical = max(chemicals, key=len)\n",
        "    print(\"\\nMaximum sized chemical composition:\", max_size_chemical)\n",
        "    element_dict = create_element_dictionary(max_size_chemical)\n",
        "    return element_dict\n",
        "\n",
        "\n"
      ]
    },
    {
      "cell_type": "markdown",
      "metadata": {
        "id": "FkWgcbmCdQs7"
      },
      "source": [
        "- The above code also uses a regular expression to extract the chemical composition from the paper.\n",
        "- The largest composition is considered (assumed) as the main checmical composition."
      ]
    },
    {
      "cell_type": "markdown",
      "metadata": {
        "id": "pogy8_tpHsVF"
      },
      "source": [
        "- Convert the chemical composition into a key-value pair of element and number."
      ]
    },
    {
      "cell_type": "markdown",
      "metadata": {
        "id": "QF5ubtF9alo2"
      },
      "source": [
        "# Create of Update JSON file"
      ]
    },
    {
      "cell_type": "code",
      "execution_count": null,
      "metadata": {
        "id": "xkVR6J4Zwznc"
      },
      "outputs": [],
      "source": [
        "import json\n",
        "import numpy as np # Import numpy if not already imported\n",
        "\n",
        "def update_json_data(json_file_path, new_details):\n",
        "    \"\"\"Updates the existing JSON data with new details.\n",
        "\n",
        "    Args:\n",
        "        json_file_path (str): Path to the JSON file.\n",
        "        new_details (dict): New details to be added to the JSON data.\n",
        "    \"\"\"\n",
        "\n",
        "    try:\n",
        "        with open(json_file_path, 'r') as json_file:\n",
        "            existing_data = json.load(json_file)\n",
        "    except FileNotFoundError:\n",
        "        existing_data = []\n",
        "\n",
        "    # Convert NumPy int64 to Python int before appending\n",
        "    for key, value in new_details.items():\n",
        "        if isinstance(value, np.int64):\n",
        "            new_details[key] = int(value)\n",
        "\n",
        "    existing_data.append(new_details)  # Ensure that you're appending the updated new_details\n",
        "\n",
        "    # Write the updated data back to the JSON file\n",
        "    with open(json_file_path, 'w') as json_file:\n",
        "        json.dump(existing_data, json_file, indent=4)\n",
        "\n",
        "    print(\"Data has been updated in\", json_file_path)"
      ]
    },
    {
      "cell_type": "markdown",
      "metadata": {
        "id": "UamT8DqYdjij"
      },
      "source": [
        "- The above code creates the JSON file if it does not exist and reads the data from it if it exists."
      ]
    },
    {
      "cell_type": "code",
      "execution_count": null,
      "metadata": {
        "id": "pJ653emmVRNH"
      },
      "outputs": [],
      "source": [
        "import pandas as pd\n",
        "import numpy as np\n",
        "import matplotlib.pyplot as plt\n",
        "from scipy.optimize import fsolve\n",
        "import statsmodels.api as sm\n",
        "\n",
        "def calculate_hollomon_constants(strain, stress):\n",
        "    # Filter out non-positive values\n",
        "    # Read Excel file\n",
        "    df = pd.read_excel(file_path)\n",
        "\n",
        "    # Remove the last row\n",
        "    df = df.drop(df.tail(2).index)\n",
        "\n",
        "    # Extract x and y columns\n",
        "    x = df[x_axis].values\n",
        "    y = df[y2_axis].values\n",
        "\n",
        "    # Check for and handle NaN or infinite values\n",
        "    mask = np.isfinite(x) & np.isfinite(y)\n",
        "    strain = x[mask]\n",
        "    stress = y[mask]\n",
        "    valid_indices = (strain > 0) & (stress > 0)\n",
        "    strain = strain[valid_indices]\n",
        "    stress = stress[valid_indices]\n",
        "\n",
        "    # Transforming the data to natural logarithms\n",
        "    log_strain = np.log(strain)\n",
        "    log_stress = np.log(stress)\n",
        "\n",
        "    # Performing linear regression\n",
        "    X = sm.add_constant(log_strain)  # Adds a constant term to the predictor\n",
        "    model = sm.OLS(log_stress, X).fit()\n",
        "    intercept, slope = model.params\n",
        "\n",
        "    # Calculating k\n",
        "    k = np.exp(intercept)\n",
        "\n",
        "    return slope, k"
      ]
    },
    {
      "cell_type": "markdown",
      "metadata": {
        "id": "-ddMRyg1ZKDP"
      },
      "source": [
        "# Call all the methods"
      ]
    },
    {
      "cell_type": "code",
      "execution_count": null,
      "metadata": {
        "id": "JyRvNeqxzT1K"
      },
      "outputs": [],
      "source": [
        "def analyze_pdf_data(file_path, pdf_file_path, keywords, x_axis, y2_axis, k_value):\n",
        "    print(\"Calculating B0 range...\")\n",
        "    # Calculate range for B0\n",
        "    from_b0, to_b0 = calculate_b0_range(file_path, x_axis, y2_axis, k_value)\n",
        "\n",
        "    print(\"Calculating min and max slope values for D1...\")\n",
        "    # Calculate min and max slope values for D1\n",
        "    min_d1, max_d1 = calculate_min_max_slope(file_path, x_axis, y2_axis)\n",
        "\n",
        "    print(\"Finding best parameters...\")\n",
        "    # Find best parameters\n",
        "    # best_b0, best_d1, best_d2, best_ei, min_mse = find_best_parameters(from_b0, to_b0, min_d1, max_d1)\n",
        "    best_b0, best_d1, best_d2, best_ei, min_mse = find_best_parameters(file_path, x_axis, y2_axis, from_b0, to_b0, min_d1, max_d1, ee)\n",
        "\n",
        "    print(\"Plotting comparison...\")\n",
        "    # Plot comparison\n",
        "    plot_comparison(file_path, x_axis, y2_axis, best_b0, best_d1, best_d2, ee, best_ei)\n",
        "\n",
        "    text = utils.extract_text_from_pdf(pdf_file_path)\n",
        "    print(\"Extracting text and finding lemmas...\")\n",
        "    # Extract text and find lemmas\n",
        "    text, all_lemmas = utils.extract_and_find_lemmas(text, keywords)\n",
        "    print(\"Finding max size chemical composition...\")\n",
        "    # Find max size chemical composition\n",
        "    element_dict = utils.find_max_size_chemical(text)\n",
        "    # print(\"Text:\", text)\n",
        "    # print(\"All lemmas:\", all_lemmas)\n",
        "    # print(\"Element dictionary:\", element_dict)\n",
        "\n",
        "    print(\"extracting the n and k values from the results..\")\n",
        "    n, k = calculate_hollomon_constants(x_axis, y2_axis)\n",
        "    print(f'n = {n}')\n",
        "    print(f'k = {k}')\n",
        "\n",
        "    return {\n",
        "        \"best_b0\": best_b0,\n",
        "        \"best_d1\": best_d1,\n",
        "        \"best_d2\": best_d2,\n",
        "        \"best_ei\": best_ei,\n",
        "        \"all_lemmas\": all_lemmas,\n",
        "        \"element_dict\": element_dict,\n",
        "        \"n\" : n,\n",
        "        \"k\" : k\n",
        "    }\n"
      ]
    },
    {
      "cell_type": "markdown",
      "metadata": {
        "id": "3gW7ICOyduVl"
      },
      "source": [
        "- The above code stores the above data in the json file.\n",
        "- The above data can be modified as required."
      ]
    },
    {
      "cell_type": "markdown",
      "metadata": {
        "id": "E0U4nViweCgd"
      },
      "source": [
        "# Read multiple files\n"
      ]
    },
    {
      "cell_type": "code",
      "source": [
        "!pip install nltk\n",
        "import nltk\n",
        "\n",
        "# Download the required NLTK data\n",
        "nltk.download('averaged_perceptron_tagger_eng')\n",
        "nltk.download('punkt') # This is required for word tokenization\n",
        "nltk.download('wordnet') # This is needed for lemmatization\n",
        "nltk.download('omw-1.4')\n",
        "nltk.download('punkt_tab')"
      ],
      "metadata": {
        "colab": {
          "base_uri": "https://localhost:8080/"
        },
        "id": "pRTyzh-LxawB",
        "outputId": "7e900236-4c13-465e-9790-f8d8e15fbcce"
      },
      "execution_count": null,
      "outputs": [
        {
          "output_type": "stream",
          "name": "stdout",
          "text": [
            "Requirement already satisfied: nltk in /usr/local/lib/python3.11/dist-packages (3.9.1)\n",
            "Requirement already satisfied: click in /usr/local/lib/python3.11/dist-packages (from nltk) (8.1.8)\n",
            "Requirement already satisfied: joblib in /usr/local/lib/python3.11/dist-packages (from nltk) (1.4.2)\n",
            "Requirement already satisfied: regex>=2021.8.3 in /usr/local/lib/python3.11/dist-packages (from nltk) (2024.11.6)\n",
            "Requirement already satisfied: tqdm in /usr/local/lib/python3.11/dist-packages (from nltk) (4.67.1)\n"
          ]
        },
        {
          "output_type": "stream",
          "name": "stderr",
          "text": [
            "[nltk_data] Downloading package averaged_perceptron_tagger_eng to\n",
            "[nltk_data]     /root/nltk_data...\n",
            "[nltk_data]   Package averaged_perceptron_tagger_eng is already up-to-\n",
            "[nltk_data]       date!\n",
            "[nltk_data] Downloading package punkt to /root/nltk_data...\n",
            "[nltk_data]   Package punkt is already up-to-date!\n",
            "[nltk_data] Downloading package wordnet to /root/nltk_data...\n",
            "[nltk_data]   Package wordnet is already up-to-date!\n",
            "[nltk_data] Downloading package omw-1.4 to /root/nltk_data...\n",
            "[nltk_data]   Package omw-1.4 is already up-to-date!\n",
            "[nltk_data] Downloading package punkt_tab to /root/nltk_data...\n",
            "[nltk_data]   Package punkt_tab is already up-to-date!\n"
          ]
        },
        {
          "output_type": "execute_result",
          "data": {
            "text/plain": [
              "True"
            ]
          },
          "metadata": {},
          "execution_count": 58
        }
      ]
    },
    {
      "cell_type": "code",
      "execution_count": null,
      "metadata": {
        "colab": {
          "base_uri": "https://localhost:8080/",
          "height": 1000
        },
        "collapsed": true,
        "id": "ekU9GM6G5OMA",
        "outputId": "27275552-0929-4e5f-b91c-f269e65da6d6"
      },
      "outputs": [
        {
          "output_type": "stream",
          "name": "stdout",
          "text": [
            "\n",
            "PROCESSING FOLDER: paper-200\n",
            "Found Excel file: /content/drive/MyDrive/Colab Notebooks/Material_Science/0116202/paper-200/fitted_hard_rate_cal.xlsx\n",
            "Found PDF file: /content/drive/MyDrive/Colab Notebooks/Material_Science/0116202/paper-200/paper-200.pdf\n",
            "No text file found. Ignoring link.\n",
            "Calculating B0 range...\n",
            "Cubic Polynomial Coefficients: [ 3.18396305e-04  1.00612002e+08 -4.54550879e+07  8.94469777e+06\n",
            " -8.36771988e+05  2.89875877e+04]\n",
            "\n",
            "Polynomial Equation: 0.000318 x^5 + 100612002.145996 x^4 + -45455087.910289 x^3 + 8944697.769711 x^2 + -836771.987519 x^1 + 28987.587699\n",
            "\n",
            "Derivative Equation: 0.001592 x^4 + 402448008.583985 x^3 + -136365263.730868 x^2 + 17889395.539422 x^1 + -836771.987519\n",
            "\n",
            "Roots (Zeros) of the Derivative Equation: [-2.52796909e+11+0.j          1.17708816e-01+0.07904909j\n",
            "  1.17708816e-01-0.07904909j  1.03421822e-01+0.j        ]\n",
            "\n",
            "For x = -252796909178.253418+0.000000j, y = 82180130397389951615662297678815957505577155125313536.000000+0.000000j\n",
            "For x = 0.117709+0.079049j, y = -4322.432350+1893.433657j\n",
            "For x = 0.117709-0.079049j, y = -4322.432350-1893.433657j\n",
            "For x = 0.103422+0.000000j, y = -651.892075+0.000000j\n",
            "\n"
          ]
        },
        {
          "output_type": "display_data",
          "data": {
            "text/plain": [
              "<Figure size 640x480 with 1 Axes>"
            ],
            "image/png": "[encoded data removed]"
          },
          "metadata": {}
        },
        {
          "output_type": "stream",
          "name": "stdout",
          "text": [
            "Original Y Values for the Roots:\n",
            "For x = -252796909178.253418+0.000000j, y = 82180130397389951615662297678815957505577155125313536.000000\n",
            "For x = 0.117709+0.079049j, y = -651.892075\n",
            "\n",
            "Minimum b0: -651.8920751787628\n",
            "Maximum b0: 8.218013039738995e+52\n",
            "From_b0: -800\n",
            "To_b0: -500\n",
            "Calculating min and max slope values for D1...\n",
            "Point   |   x       |   y       |   Slope\n",
            "---------------------------------------------\n",
            "1       |   0.019   |   16019.291   |   -543340.169\n",
            "2       |   0.020   |   15370.284   |   -527575.728\n",
            "3       |   0.021   |   14740.187   |   -512139.043\n",
            "4       |   0.023   |   14128.604   |   -497027.389\n",
            "5       |   0.024   |   13535.143   |   -482236.043\n",
            "6       |   0.025   |   12959.419   |   -467760.819\n",
            "7       |   0.026   |   12401.051   |   -453597.386\n",
            "8       |   0.027   |   11859.665   |   -439741.452\n",
            "9       |   0.029   |   11334.889   |   -426188.713\n",
            "10       |   0.030   |   10826.359   |   -412934.871\n",
            "11       |   0.031   |   10333.716   |   -399975.625\n",
            "12       |   0.032   |   9856.604   |   -387306.675\n",
            "13       |   0.034   |   9394.675   |   -374923.720\n",
            "14       |   0.035   |   8947.584   |   -362822.460\n",
            "15       |   0.036   |   8514.993   |   -350998.595\n",
            "16       |   0.037   |   8096.568   |   -339447.825\n",
            "17       |   0.038   |   7691.981   |   -328165.848\n",
            "18       |   0.040   |   7300.908   |   -317148.366\n",
            "19       |   0.041   |   6923.031   |   -306391.077\n",
            "20       |   0.042   |   6558.038   |   -295889.681\n",
            "21       |   0.043   |   6205.621   |   -285639.879\n",
            "22       |   0.044   |   5865.478   |   -275637.369\n",
            "23       |   0.046   |   5537.311   |   -265877.851\n",
            "24       |   0.047   |   5220.829   |   -256357.025\n",
            "25       |   0.048   |   4915.745   |   -247070.591\n",
            "26       |   0.049   |   4621.777   |   -238014.249\n",
            "27       |   0.051   |   4338.650   |   -229183.697\n",
            "28       |   0.052   |   4066.091   |   -220574.637\n",
            "29       |   0.053   |   3803.835   |   -212182.767\n",
            "30       |   0.054   |   3551.622   |   -204003.787\n",
            "31       |   0.055   |   3309.196   |   -196033.397\n",
            "32       |   0.057   |   3076.307   |   -188267.297\n",
            "33       |   0.058   |   2852.710   |   -180701.186\n",
            "34       |   0.059   |   2638.165   |   -173330.764\n",
            "35       |   0.060   |   2432.437   |   -166151.731\n",
            "36       |   0.061   |   2235.297   |   -159159.786\n",
            "37       |   0.063   |   2046.521   |   -152350.629\n",
            "38       |   0.064   |   1865.890   |   -145719.960\n",
            "39       |   0.065   |   1693.190   |   -139263.479\n",
            "40       |   0.066   |   1528.213   |   -132976.885\n",
            "41       |   0.067   |   1370.755   |   -126855.877\n",
            "42       |   0.069   |   1220.619   |   -120896.156\n",
            "43       |   0.070   |   1077.610   |   -115093.422\n",
            "44       |   0.071   |   941.542   |   -109443.372\n",
            "45       |   0.072   |   812.233   |   -103941.714\n",
            "46       |   0.074   |   689.504   |   -98584.118\n",
            "47       |   0.075   |   573.185   |   -93366.391\n",
            "48       |   0.076   |   463.107   |   -88283.839\n",
            "49       |   0.077   |   359.110   |   -83333.627\n",
            "50       |   0.078   |   261.037   |   -78505.988\n",
            "51       |   0.080   |   168.736   |   -73817.018\n",
            "52       |   0.081   |   82.063   |   -69186.305\n",
            "53       |   0.082   |   0.875   |   -64893.597\n",
            "54       |   0.127   |   43.553   |   59922.751\n",
            "55       |   0.128   |   118.027   |   63070.621\n",
            "56       |   0.129   |   196.564   |   66496.243\n",
            "57       |   0.131   |   279.230   |   69919.867\n",
            "58       |   0.132   |   366.098   |   73421.906\n",
            "59       |   0.133   |   457.247   |   76986.259\n",
            "60       |   0.134   |   552.761   |   80622.720\n",
            "61       |   0.135   |   652.727   |   84334.011\n",
            "62       |   0.137   |   757.239   |   88125.254\n",
            "63       |   0.138   |   866.397   |   91999.043\n"
          ]
        },
        {
          "output_type": "display_data",
          "data": {
            "text/plain": [
              "<Figure size 1200x800 with 1 Axes>"
            ],
            "image/png": "[encoded data removed]"
          },
          "metadata": {}
        },
        {
          "output_type": "stream",
          "name": "stdout",
          "text": [
            "Data Point | x Value | y Value | Difference | Slope:\n",
            "----------------------------------------------------\n",
            "1       |   0.127   |   43.553   |   3147.870   |   59922.751\n",
            "2       |   0.128   |   118.027   |   3425.622   |   63070.621\n",
            "3       |   0.129   |   196.564   |   3423.624   |   66496.243\n",
            "4       |   0.131   |   279.230   |   3502.039   |   69919.867\n",
            "\n",
            "Average Slope of Printed Slopes: 64852.37058926279\n"
          ]
        },
        {
          "output_type": "display_data",
          "data": {
            "text/plain": [
              "<Figure size 1200x800 with 1 Axes>"
            ],
            "image/png": "[encoded data removed]"
          },
          "metadata": {}
        },
        {
          "output_type": "stream",
          "name": "stdout",
          "text": [
            "\n",
            "Minimum Slope: 59922.75072770727\n",
            "Maximum Slope: 73421.90622942346\n",
            "Finding best parameters...\n",
            "Best Parameters:\n",
            "B0: -800\n",
            "D1: 59922\n",
            "D2: 0.44999999999999996\n",
            "Ei: 0.1\n",
            "Plotting comparison...\n"
          ]
        },
        {
          "output_type": "display_data",
          "data": {
            "text/plain": [
              "<Figure size 1000x600 with 1 Axes>"
            ],
            "image/png": "[encoded data removed]"
          },
          "metadata": {}
        },
        {
          "output_type": "stream",
          "name": "stdout",
          "text": [
            "Extracting text and finding lemmas...\n",
            "Finding max size chemical composition...\n",
            "Extracted chemical compositions:\n",
            "['Al5Ti8Fe28', 'FeCoNiCr', 'HfNbTaTiZr', 'FeNiCoAl', 'Al0.2Co1.5CrFeNi1.5Ti0', 'CrFeCoNiMo', 'Al0.1CoCrFeNi', 'FeCoNiAlTi']\n",
            "\n",
            "Maximum sized chemical composition: Al0.2Co1.5CrFeNi1.5Ti0\n",
            "extracting the n and k values from the results..\n",
            "n = -2.787063988499029\n",
            "k = 0.5955542407997776\n",
            "Data has been updated in data.json\n",
            "JSON DATA SAVED.\n",
            "\n"
          ]
        }
      ],
      "source": [
        "# Loop through each folder in the data directory\n",
        "for folder_name in os.listdir(data_directory):\n",
        "    folder_path = os.path.join(data_directory, folder_name)\n",
        "\n",
        "    # Check if the item in the directory is a folder\n",
        "    if os.path.isdir(folder_path):\n",
        "        print(f\"\\nPROCESSING FOLDER: {folder_name}\")\n",
        "\n",
        "        # Extract the file paths for the Excel and PDF files\n",
        "        excel_file = None\n",
        "        pdf_file = None\n",
        "        text_file = None  # Variable to store the path of the text file\n",
        "\n",
        "        # Loop through the files in the folder\n",
        "        for file_name in os.listdir(folder_path):\n",
        "            file_path = os.path.join(folder_path, file_name)\n",
        "\n",
        "            # Check if the file is an Excel file\n",
        "            if file_name.endswith(\"_cal.xlsx\"):\n",
        "                excel_file = file_path\n",
        "\n",
        "            # Check if the file is a PDF file\n",
        "            elif file_name.endswith(\".pdf\"):\n",
        "                pdf_file = file_path\n",
        "\n",
        "            # Check if the file is a text file\n",
        "            elif file_name.endswith(\".txt\"):\n",
        "                text_file = file_path\n",
        "\n",
        "        # Ensure both Excel and PDF files are found and handle the case if text_file is None\n",
        "        if excel_file and pdf_file:\n",
        "            print(f\"Found Excel file: {excel_file}\")\n",
        "            print(f\"Found PDF file: {pdf_file}\")\n",
        "            if text_file:\n",
        "                print(f\"Found text file: {text_file}\")\n",
        "\n",
        "                # Read the link from the text file\n",
        "                with open(text_file, 'r') as txt_file:\n",
        "                    link = txt_file.read().strip()  # Assuming the link is on the first line and there's no leading/trailing whitespace\n",
        "            else:\n",
        "                print(\"No text file found. Ignoring link.\")\n",
        "                link = None  # Set link to None if no text file is found\n",
        "\n",
        "            # Read Excel data\n",
        "            data = pd.read_excel(excel_file, usecols=[0, 1, 2])\n",
        "            x_axis = data.columns[0]  # First column as x_axis - strain\n",
        "            y1_axis = data.columns[1]  # Second column as y1_axis - stress\n",
        "            y2_axis = data.columns[2]  # Third column as y2_axis - harding rate\n",
        "\n",
        "            # Update global variables with file paths and column names\n",
        "            file_path = excel_file\n",
        "            pdf_file_path = pdf_file\n",
        "\n",
        "            # Call the method and store the returned values\n",
        "            analysis_results = analyze_pdf_data(file_path, pdf_file_path, keywords, x_axis, y2_axis, k_value)\n",
        "\n",
        "            # Prepare the new details dictionary with the returned values\n",
        "            new_details = {\n",
        "                \"title\": folder_name,\n",
        "                \"b0\": analysis_results[\"best_b0\"],\n",
        "                \"d1\": analysis_results[\"best_d1\"],\n",
        "                \"d2\": analysis_results[\"best_d2\"],\n",
        "                \"ei\": analysis_results[\"best_ei\"],\n",
        "                \"ee\": ee,\n",
        "                \"lemma\": analysis_results[\"all_lemmas\"],\n",
        "                \"composition\": analysis_results[\"element_dict\"],\n",
        "                \"link\": link,\n",
        "                \"n\": analysis_results[\"n\"],\n",
        "                \"k\": analysis_results[\"k\"]\n",
        "            }\n",
        "\n",
        "            json_file_path = \"data.json\"\n",
        "            update_json_data(json_file_path, new_details)\n",
        "\n",
        "            print(\"JSON DATA SAVED.\\n\")\n",
        "        else:\n",
        "            print(\"Error: Both Excel and PDF files are required in each folder.\")\n",
        "    else:\n",
        "        print(f\"Skipping file: {folder_name}, it is not a folder.\")\n"
      ]
    }
  ],
  "metadata": {
    "colab": {
      "provenance": [],
      "include_colab_link": true
    },
    "kernelspec": {
      "display_name": "Python 3",
      "name": "python3"
    },
    "language_info": {
      "name": "python"
    }
  },
  "nbformat": 4,
  "nbformat_minor": 0
}